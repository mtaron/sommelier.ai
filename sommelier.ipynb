{
 "cells": [
  {
   "cell_type": "markdown",
   "metadata": {},
   "source": [
    "# sommelier.ai\n",
    "#### Practical Machine Learning Workshop\n",
    "\n",
    "### Agenda:\n",
    "- Data Exploration with pandas\n",
    "- Modeling with scikit-learn\n",
    "\n",
    "### Documentation\n",
    "- [pandas](https://pandas.pydata.org/pandas-docs/stable/reference/index.html) docs\n",
    "- [Modern Pandas](https://tomaugspurger.github.io/modern-1-intro.html) blog series\n",
    "- [scikit-learn](http://scikit-learn.org/stable/index.html)\n",
    "- [matplotlib](https://matplotlib.org/api/api_overview.html)\n",
    "\n",
    "## Data Exploration"
   ]
  },
  {
   "cell_type": "code",
   "execution_count": null,
   "metadata": {},
   "outputs": [],
   "source": [
    "# These 'magics' alter the behavior of the Jupyter notebook\n",
    "# https://ipython.org/ipython-doc/3/config/extensions/autoreload.html\n",
    "%load_ext autoreload\n",
    "%autoreload 2"
   ]
  },
  {
   "cell_type": "code",
   "execution_count": null,
   "metadata": {},
   "outputs": [],
   "source": [
    "from pathlib import Path\n",
    "\n",
    "import numpy as np\n",
    "import pandas as pd"
   ]
  },
  {
   "cell_type": "code",
   "execution_count": null,
   "metadata": {},
   "outputs": [],
   "source": [
    "# This cell is all for styling graphs\n",
    "\n",
    "import matplotlib.pyplot as plt\n",
    "import seaborn as sns\n",
    "\n",
    "from workshop import boxplot_sorted\n",
    "\n",
    "sns.set(style=\"darkgrid\")\n",
    "plt.style.use(\"fivethirtyeight\")\n",
    "\n",
    "# https://matplotlib.org/tutorials/introductory/customizing.html\n",
    "plt.rc(\"figure\", figsize=(11, 8))\n",
    "\n",
    "FONT_SIZE = 16\n",
    "\n",
    "plt.rc(\"font\", size=FONT_SIZE)          # controls default text sizes\n",
    "plt.rc(\"axes\", titlesize=FONT_SIZE)     # fontsize of the axes title\n",
    "plt.rc(\"axes\", labelsize=FONT_SIZE)     # fontsize of the x and y labels\n",
    "plt.rc(\"xtick\", labelsize=FONT_SIZE)    # fontsize of the tick labels\n",
    "plt.rc(\"ytick\", labelsize=FONT_SIZE)    # fontsize of the tick labels\n",
    "plt.rc(\"legend\", fontsize=FONT_SIZE)    # legend fontsize\n",
    "plt.rc(\"figure\", titlesize=FONT_SIZE)   # fontsize of the figure title"
   ]
  },
  {
   "cell_type": "code",
   "execution_count": null,
   "metadata": {},
   "outputs": [],
   "source": [
    "wine_reviews: Path = Path.cwd() / \"data\" / \"winemag-data.zip\"\n",
    "\n",
    "df: pd.DataFrame = pd.read_csv(wine_reviews)\n",
    "\n",
    "# Display the first few elements\n",
    "df.head()"
   ]
  },
  {
   "cell_type": "code",
   "execution_count": null,
   "metadata": {},
   "outputs": [],
   "source": [
    "len(df)"
   ]
  },
  {
   "source": [
    "## Indexing\n",
    "\n",
    "- Use `.loc` for label-based indexing\n",
    "- Use `.iloc` for positional indexing\n",
    "\n",
    "You can omit these, but the [Zen Of Python](https://www.python.org/dev/peps/pep-0020/) say __explicit is better than implicit__ and there is a performance penalty from pandas having to infer which indexing method to use."
   ],
   "cell_type": "markdown",
   "metadata": {}
  },
  {
   "cell_type": "code",
   "execution_count": null,
   "metadata": {},
   "outputs": [],
   "source": [
    "df.loc[(df.province == \"Washington\") & (df.points > 98)]"
   ]
  },
  {
   "cell_type": "code",
   "execution_count": null,
   "metadata": {},
   "outputs": [],
   "source": [
    "df.iloc[15:18]"
   ]
  },
  {
   "cell_type": "code",
   "execution_count": null,
   "metadata": {},
   "outputs": [],
   "source": [
    "df.iloc[15:18]"
   ]
  },
  {
   "cell_type": "code",
   "execution_count": null,
   "metadata": {},
   "outputs": [],
   "source": [
    "# Selecting columns\n",
    "df[[\"country\", \"winery\"]]"
   ]
  },
  {
   "cell_type": "markdown",
   "metadata": {},
   "source": [
    "## How are wines scored?"
   ]
  },
  {
   "cell_type": "code",
   "execution_count": null,
   "metadata": {},
   "outputs": [],
   "source": [
    "df.points.describe()"
   ]
  },
  {
   "cell_type": "code",
   "execution_count": null,
   "metadata": {},
   "outputs": [],
   "source": [
    "df.points.plot.hist(title=\"Points\")"
   ]
  },
  {
   "source": [
    "### How long are descriptions?\n",
    "\n",
    "This examples shows creating a new column and using the \"str\" extension for [working with text data](https://pandas.pydata.org/pandas-docs/stable/user_guide/text.html)."
   ],
   "cell_type": "markdown",
   "metadata": {}
  },
  {
   "cell_type": "code",
   "execution_count": null,
   "metadata": {},
   "outputs": [],
   "source": [
    "df[\"word_count\"] = df[\"description\"].str.split().apply(len)\n",
    "df"
   ]
  },
  {
   "cell_type": "code",
   "execution_count": null,
   "metadata": {},
   "outputs": [],
   "source": [
    "df[\"word_count\"].plot.hist(title=\"Word Count\");"
   ]
  },
  {
   "cell_type": "code",
   "execution_count": null,
   "metadata": {},
   "outputs": [],
   "source": [
    "# Gets the longest description by word count.\n",
    "df.iloc[df.word_count.idxmax].description"
   ]
  },
  {
   "cell_type": "code",
   "execution_count": null,
   "metadata": {},
   "outputs": [],
   "source": [
    "df.iloc[df.word_count.idxmin].description"
   ]
  },
  {
   "source": [
    "## What are the most common words used to describe wines?"
   ],
   "cell_type": "markdown",
   "metadata": {}
  },
  {
   "cell_type": "code",
   "execution_count": null,
   "metadata": {},
   "outputs": [],
   "source": [
    "%%time\n",
    "\n",
    "from sklearn.feature_extraction.text import CountVectorizer\n",
    "\n",
    "vectorizer = CountVectorizer()\n",
    "document_term_matrix = vectorizer.fit_transform(df[\"description\"])\n",
    "term_df = pd.DataFrame.sparse.from_spmatrix(document_term_matrix, columns=vectorizer.get_feature_names())\n",
    "term_df"
   ]
  },
  {
   "cell_type": "code",
   "execution_count": null,
   "metadata": {},
   "outputs": [],
   "source": [
    "count_df.sum().sort_values(ascending=False).head(80)"
   ]
  },
  {
   "cell_type": "code",
   "execution_count": null,
   "metadata": {},
   "outputs": [],
   "source": [
    "# https://pandas.pydata.org/pandas-docs/stable/user_guide/options.html\n",
    "with pd.option_context(\"display.max_rows\", 100):\n",
    "    # display is what is used to show an item when it is last element in a cell.\n",
    "    display(count_df.sum().sort_values(ascending=False).head(80))"
   ]
  },
  {
   "cell_type": "code",
   "execution_count": null,
   "metadata": {},
   "outputs": [],
   "source": [
    "# Another command option is setting the max_colwidth to see the complete contents.\n",
    "with pd.option_context(\"display.max_colwidth\", -1):\n",
    "    display(df[\"description\"].tail(10))"
   ]
  },
  {
   "source": [
    "## Aside: `inplace=True`\n",
    "\n",
    "Pandas maintainers say don't use it. They are [trying to deprecate it](https://github.com/pandas-dev/pandas/issues/16529).\n",
    "\n",
    "![caption](images/inplace.png)"
   ],
   "cell_type": "markdown",
   "metadata": {}
  },
  {
   "source": [
    "## How many tasters are there?"
   ],
   "cell_type": "markdown",
   "metadata": {}
  },
  {
   "cell_type": "code",
   "execution_count": null,
   "metadata": {},
   "outputs": [],
   "source": [
    "len(df.taster_name.unique())"
   ]
  },
  {
   "cell_type": "code",
   "execution_count": null,
   "metadata": {},
   "outputs": [],
   "source": [
    "# Need to be careful of dropna across several different methods, like value_counts.\n",
    "df.taster_name.value_counts()"
   ]
  },
  {
   "cell_type": "code",
   "execution_count": null,
   "metadata": {},
   "outputs": [],
   "source": [
    "# Need to be careful of dropna across several different methods, like value_counts.\n",
    "df.taster_name.value_counts(dropna=False)"
   ]
  },
  {
   "cell_type": "code",
   "execution_count": null,
   "metadata": {},
   "outputs": [],
   "source": [
    "# Setting a value with a row and column indexer.\n",
    "df.loc[df.taster_name.isna(), \"taster_name\"] = \"Unknown\""
   ]
  },
  {
   "cell_type": "code",
   "execution_count": null,
   "metadata": {},
   "outputs": [],
   "source": [
    "df.taster_name.value_counts()"
   ]
  },
  {
   "source": [
    "## What are the top 20 wineries by number of wines? How do their points compare?"
   ],
   "cell_type": "markdown",
   "metadata": {}
  },
  {
   "cell_type": "code",
   "execution_count": null,
   "metadata": {},
   "outputs": [],
   "source": [
    "df.winery.isna().any()"
   ]
  },
  {
   "cell_type": "code",
   "execution_count": null,
   "metadata": {},
   "outputs": [],
   "source": [
    "# Get an index made up from the twenty most productive wineries (discard the value counts).\n",
    "top20 = df.winery.value_counts()[:20].index\n",
    "top20"
   ]
  },
  {
   "cell_type": "code",
   "execution_count": null,
   "metadata": {},
   "outputs": [],
   "source": [
    "# Method chaining is considered \"good style\" in pandas.\n",
    "(df.loc[df.winery.isin(top20)]\n",
    "   .groupby(\"winery\")\n",
    "   .points\n",
    "   .quantile(0.95)\n",
    "   .sort_values(ascending=False))"
   ]
  },
  {
   "cell_type": "code",
   "execution_count": null,
   "metadata": {},
   "outputs": [],
   "source": [
    "boxplot_sorted(df[df.winery.isin(top20)], by=\"winery\", column=\"points\");"
   ]
  },
  {
   "source": [
    "## Are some tasters pickier than others?"
   ],
   "cell_type": "markdown",
   "metadata": {}
  },
  {
   "cell_type": "code",
   "execution_count": null,
   "metadata": {},
   "outputs": [],
   "source": [
    "boxplot_sorted(df, by=\"taster_name\", column=\"points\");"
   ]
  },
  {
   "cell_type": "code",
   "execution_count": null,
   "metadata": {},
   "outputs": [],
   "source": [
    "def get_favorite_wines(name: str) -> pd.Series:\n",
    "    return (df.loc[df.taster_name == name]\n",
    "              .groupby(\"variety\")\n",
    "              .points\n",
    "              .quantile(0.95)\n",
    "              .sort_values(ascending=False)\n",
    "              .head())\n",
    "\n",
    "get_favorite_wines(\"Virginie Boone\")"
   ]
  },
  {
   "cell_type": "code",
   "execution_count": null,
   "metadata": {},
   "outputs": [],
   "source": [
    "get_favorite_wines(\"Alexander Peartree\")"
   ]
  },
  {
   "source": [
    "## Data Challenges\n",
    "- what are the worst wines in the US?\n",
    "- what is the most produced variety?\n",
    "- what is hightest rated variety?\n",
    "- what are the top 10 best value wines?"
   ],
   "cell_type": "markdown",
   "metadata": {}
  },
  {
   "cell_type": "code",
   "execution_count": null,
   "metadata": {},
   "outputs": [],
   "source": [
    "df.points.isna().any()"
   ]
  },
  {
   "source": [
    "## What are the ten best value wines?"
   ],
   "cell_type": "markdown",
   "metadata": {}
  },
  {
   "cell_type": "code",
   "execution_count": null,
   "metadata": {},
   "outputs": [],
   "source": [
    "priced_df = df.dropna(subset=[\"price\"])\n",
    "priced_df[\"value\"] = priced_df.points / priced_df.price\n",
    "priced_df.sort_values([\"value\"], ascending=False)[[\"title\", \"points\", \"price\", \"value\"]].head(15)"
   ]
  },
  {
   "source": [
    "## Extract Year from Title"
   ],
   "cell_type": "markdown",
   "metadata": {}
  },
  {
   "cell_type": "code",
   "execution_count": null,
   "metadata": {},
   "outputs": [],
   "source": [
    "def compute_year(df: pd.DataFrame) -> pd.DataFrame:\n",
    "    # It is polite not to alter the input DataFrame\n",
    "    result: pd.DataFrame = df.copy()\n",
    "\n",
    "    year: pd.Series = df.title.str.extract(r\"\\b((?:19|20)\\d{2})\\b\")\n",
    "\n",
    "    # Get the median year\n",
    "    median: int = round(year.dropna().astype(int).median())\n",
    "    \n",
    "    # Replace NaNs with the median\n",
    "    result[\"year\"] = year.replace(pd.NA, median).astype(int)\n",
    "\n",
    "    return result"
   ]
  },
  {
   "cell_type": "code",
   "execution_count": null,
   "metadata": {},
   "outputs": [],
   "source": [
    "df = df.pipe(compute_year)\n",
    "df"
   ]
  },
  {
   "cell_type": "code",
   "execution_count": null,
   "metadata": {},
   "outputs": [],
   "source": [
    "# Varieties with the most variance in points\n",
    "(df.groupby(\"variety\")\n",
    "   .points\n",
    "   .var()\n",
    "   .dropna()\n",
    "   .sort_values()\n",
    "   .tail(15)\n",
    "   .plot\n",
    "   .barh());"
   ]
  },
  {
   "source": [
    "# A very simple sentiment analysis model"
   ],
   "cell_type": "markdown",
   "metadata": {}
  },
  {
   "cell_type": "code",
   "execution_count": null,
   "metadata": {},
   "outputs": [],
   "source": [
    "from sklearn import metrics\n",
    "from sklearn.pipeline import make_pipeline\n",
    "from sklearn.feature_extraction.text import TfidfVectorizer\n",
    "from sklearn.linear_model import SGDClassifier\n",
    "from sklearn.naive_bayes import MultinomialNB\n",
    "from sklearn.model_selection import train_test_split, cross_val_predict\n",
    "from sklearn.compose import make_column_transformer\n",
    "from sklearn.impute import SimpleImputer\n",
    "from sklearn.preprocessing import OneHotEncoder, StandardScaler\n",
    "\n",
    "from workshop import show_most_informative_features\n",
    "\n",
    "def evaluate(model, X, y):\n",
    "    predictions = model.predict(X)\n",
    "    score = metrics.accuracy_score(y, predictions)\n",
    "    print('\\nAccuracy: %0.3f' % score)\n",
    "\n",
    "    print(metrics.classification_report(y, predictions))"
   ]
  },
  {
   "cell_type": "code",
   "execution_count": null,
   "metadata": {},
   "outputs": [],
   "source": [
    "df[\"is_good\"] = df.points > 90\n",
    "\n",
    "train_df, test_df, train_labels, test_labels = train_test_split(\n",
    "    df.drop(columns=[\"is_good\", \"price\", \"points\"]), \n",
    "    df.is_good,\n",
    "    random_state=3)"
   ]
  },
  {
   "cell_type": "code",
   "execution_count": null,
   "metadata": {},
   "outputs": [],
   "source": [
    "%%time\n",
    "\n",
    "count_model = make_pipeline(CountVectorizer(), MultinomialNB())\n",
    "\n",
    "count_model.fit(train_df.description, train_labels)\n",
    "\n",
    "evaluate(count_model, test_df.description, test_labels)"
   ]
  },
  {
   "cell_type": "code",
   "execution_count": null,
   "metadata": {},
   "outputs": [],
   "source": [
    "%%time\n",
    "\n",
    "tf_idf_model = make_pipeline(\n",
    "            make_column_transformer(\n",
    "                (TfidfVectorizer(ngram_range=(1,3), max_df=0.98), \"description\")),\n",
    "            SGDClassifier(n_jobs=-1, loss=\"modified_huber\"))\n",
    "\n",
    "tf_idf_model.fit(train_df, train_labels)\n",
    "\n",
    "evaluate(tf_idf_model, test_df, test_labels)"
   ]
  },
  {
   "cell_type": "code",
   "execution_count": null,
   "metadata": {},
   "outputs": [],
   "source": [
    "show_most_informative_features(tf_idf_model)"
   ]
  },
  {
   "cell_type": "code",
   "execution_count": null,
   "metadata": {},
   "outputs": [],
   "source": [
    "%%time\n",
    "\n",
    "categorical_transformer = make_pipeline(\n",
    "    SimpleImputer(strategy=\"constant\", fill_value=\"missing\"),\n",
    "    OneHotEncoder(handle_unknown=\"ignore\"))\n",
    "\n",
    "model = make_pipeline(\n",
    "            make_column_transformer(\n",
    "                (TfidfVectorizer(ngram_range=(1,3), max_df=0.98), \"description\"),\n",
    "                (categorical_transformer, [\"country\", \"winery\"]),\n",
    "                (make_pipeline(\n",
    "                    SimpleImputer(strategy=\"median\"),\n",
    "                    StandardScaler()), [\"year\"])),\n",
    "            SGDClassifier(n_jobs=-1, loss=\"modified_huber\"))\n",
    "\n",
    "model.fit(train_df, train_labels)\n",
    "\n",
    "predicted = model.predict(test_df)\n",
    "\n",
    "evaluate(model, test_df, test_labels)"
   ]
  },
  {
   "cell_type": "code",
   "execution_count": null,
   "metadata": {},
   "outputs": [],
   "source": [
    "show_most_informative_features(model)"
   ]
  },
  {
   "cell_type": "code",
   "execution_count": null,
   "metadata": {},
   "outputs": [],
   "source": [
    "def get_failures(model, X, y, cv=3):\n",
    "    predicted = cross_val_predict(model, X, y, cv=cv, n_jobs=-1)\n",
    "\n",
    "    print(\"Confusion matrix (actual x prediction):\")\n",
    "    print(metrics.confusion_matrix(y, predicted))\n",
    "\n",
    "    fn = X[(y == True) & (predicted == False)]\n",
    "    fp = X[(y == False) & (predicted == True)]\n",
    "\n",
    "    return fn, fp"
   ]
  },
  {
   "cell_type": "code",
   "execution_count": null,
   "metadata": {},
   "outputs": [],
   "source": [
    "fn, tp = get_failures(model, train_df, train_labels)"
   ]
  }
 ],
 "metadata": {
  "kernelspec": {
   "name": "python3",
   "display_name": "Python 3.8.3 64-bit ('.venv')",
   "metadata": {
    "interpreter": {
     "hash": "b40721bd6e5824e9d249fdf157fd422fb049cf4e9b216c8429d1167f9e3d5c34"
    }
   }
  },
  "language_info": {
   "codemirror_mode": {
    "name": "ipython",
    "version": 3
   },
   "file_extension": ".py",
   "mimetype": "text/x-python",
   "name": "python",
   "nbconvert_exporter": "python",
   "pygments_lexer": "ipython3",
   "version": "3.8.3-final"
  }
 },
 "nbformat": 4,
 "nbformat_minor": 2
}